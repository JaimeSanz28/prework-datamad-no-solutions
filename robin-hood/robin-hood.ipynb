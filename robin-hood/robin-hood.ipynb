{
 "cells": [
  {
   "cell_type": "markdown",
   "metadata": {},
   "source": [
    "<img src=\"https://bit.ly/2VnXWr2\" width=\"100\" align=\"left\"/>"
   ]
  },
  {
   "cell_type": "markdown",
   "metadata": {},
   "source": [
    "# Robin Hood\n",
    "Robin Hood has entered a competition to win the archery contest in Sherwood. With his bow and arrows, he needs to shoot on a target and try to hit as close as possible to the center.\n",
    "\n",
    "![](images/arrows.jpg)\n",
    "\n",
    "## Context\n",
    "In this challenge, the landing position of arrows shot by archers in the competition will be represented using 2-dimensional coordinates. \n",
    "\n",
    "In the 2-dimensional space, a point can be defined by a pair of values that correspond to the horizontal coordinate (x) and the vertical coordinate (y). For example, in our case, an arrow that hits the center of the archery target will land in position (0, 0) on the coordinate axes. \n",
    "\n",
    "The space can be divided into 4 zones (quadrants): Q1, Q2, Q3, Q4. If a point is in Q1, both its x coordinate and y coordinate are positive. Any point with a null x or y coordinate is considered to not belong to any quadrant. \n",
    "\n",
    "If you want to know more about the cartesian coordinate system, you can check this [link](https://en.wikipedia.org/wiki/Cartesian_coordinate_system). \n",
    "\n",
    "## Tools\n",
    "You don't necessarily need to use all the tools. Maybe you opt to use some of them or completely different ones, they are given to help you shape the exercise. Programming exercises can be solved in many different ways.\n",
    "* Data structures: **lists, sets, tuples**\n",
    "* Conditional statements: **if-elif-else**\n",
    "* Loop: **while/for**\n",
    "* Minimum (optional sorting)\n",
    "\n",
    "## Tasks\n",
    "Robin Hood has hit the following points:"
   ]
  },
  {
   "cell_type": "code",
   "execution_count": 2,
   "metadata": {},
   "outputs": [],
   "source": [
    "points = [(4, 5), (-0, 2), (4, 7), (1, -3), (3, -2), (4, 5), (3, 2), (5, 7), (-5, 7), (2, 2), (-4, 5), (0, -2),\n",
    "          (-4, 7), (-1, 3), (-3, 2), (-4, -5), (-3, 2), (5, 7), (5, 7), (2, 2), (9, 9), (-8, -9)]"
   ]
  },
  {
   "cell_type": "markdown",
   "metadata": {},
   "source": [
    "#### 1. Robin Hood is famous for hitting an arrow with another arrow. Find the coordinates of the points where an arrow hits another arrow."
   ]
  },
  {
   "cell_type": "code",
   "execution_count": 10,
   "metadata": {},
   "outputs": [
    {
     "name": "stdout",
     "output_type": "stream",
     "text": [
      "There are  2 arrows in the same place:  (4, 5)\n",
      "There are  3 arrows in the same place:  (5, 7)\n",
      "There are  2 arrows in the same place:  (2, 2)\n",
      "There are  2 arrows in the same place:  (-3, 2)\n"
     ]
    }
   ],
   "source": [
    "arrow_arrow = []\n",
    "\n",
    "i=0\n",
    "equals = 1\n",
    "for point in points:\n",
    "    \n",
    "        i+=1\n",
    "        for j in points[i:]:\n",
    "        \n",
    "            if point == j:\n",
    "                equals += 1 \n",
    "                \n",
    "            \n",
    "        if equals>1 and point not in arrow_arrow:\n",
    "            arrow_arrow.append(point)\n",
    "            print(\"There are \", equals, \"arrows in the same place: \", point)\n",
    " \n",
    "        equals = 1"
   ]
  },
  {
   "cell_type": "markdown",
   "metadata": {},
   "source": [
    "#### 2. Calculate how many arrows have fallen in each quadrant. \n",
    "**Note**: the arrows that fall in the axis (x=0 or y=0) don't belong to any quadrant."
   ]
  },
  {
   "cell_type": "code",
   "execution_count": 19,
   "metadata": {},
   "outputs": [
    {
     "name": "stdout",
     "output_type": "stream",
     "text": [
      "10 6 2 2\n"
     ]
    }
   ],
   "source": [
    "qua1 = 0\n",
    "qua2 = 0\n",
    "qua3 = []\n",
    "qua4 = []\n",
    "\n",
    "for point in points:\n",
    "    if point[0] > 0 and point[1] > 0:\n",
    "        qua1 += 1\n",
    "    elif point[0] < 0 and point[1] > 0:\n",
    "        qua2 +=1\n",
    "    elif point[0] < 0 and point[1] < 0:\n",
    "        qua3.append(point)\n",
    "    elif point[0] > 0 and point[1] < 0:\n",
    "        qua4.append(point)\n",
    "        \n",
    "print(qua1, qua2, len(qua3), len(qua4))\n"
   ]
  },
  {
   "cell_type": "markdown",
   "metadata": {},
   "source": [
    "#### 3. Find the point closest to the center. Calculate its distance to the center. \n",
    "Take into account that there might be more than one point at the minimum distance to the center.\n",
    "\n",
    "**Hint**: Use the Euclidean distance. You can find more information about it [here](https://en.wikipedia.org/wiki/Euclidean_distance).  \n",
    "**Hint**: Defining a function that calculates the distance to the center can help."
   ]
  },
  {
   "cell_type": "code",
   "execution_count": 73,
   "metadata": {},
   "outputs": [
    {
     "name": "stdout",
     "output_type": "stream",
     "text": [
      "distance to center = 2.0\n",
      "indexes: [1, 11]\n",
      "coordinates: (0, 2)\n",
      "coordinates: (0, -2)\n"
     ]
    }
   ],
   "source": [
    "arrow_dist= []\n",
    "\n",
    "import math\n",
    "def close_center(arrow):\n",
    "    center_dist = math.sqrt(arrow[0]**2 + arrow[1]**2)\n",
    "    return center_dist\n",
    "\n",
    "for point in points:\n",
    "    arrow_dist.append(round(close_center(point), 2))\n",
    "\n",
    "closest_indexes = []\n",
    "min_dist = min(arrow_dist)\n",
    "for index in range(len(arrow_dist)):\n",
    "    if arrow_dist[index] == min_dist:\n",
    "        closest_indexes.append(index)\n",
    "\n",
    "\n",
    "print(\"distance to center =\", min_dist)\n",
    "print(\"indexes:\", closest_indexes)\n",
    "\n",
    "for closest in closest_indexes:\n",
    "    print(\"coordinates:\", points[closest])"
   ]
  },
  {
   "cell_type": "code",
   "execution_count": 109,
   "metadata": {},
   "outputs": [
    {
     "name": "stdout",
     "output_type": "stream",
     "text": [
      "2.0\n",
      "4\n",
      "0\n",
      "1\n",
      "2\n",
      "\n",
      "2\n",
      "3\n",
      "4\n"
     ]
    }
   ],
   "source": [
    "arrow_dist2 = [2, 3, 4]\n",
    "for index2 in range(len(arrow_dist2)):      #index2 es la posicion no el valor\n",
    "    if arrow_dist2[index2] == min_dist:\n",
    "        print(min_dist)\n",
    "        \n",
    "print(arrow_dist2[2])\n",
    "\n",
    "    \n",
    "for element in range(len(arrow_dist2)):\n",
    "    print(element)\n",
    "    \n",
    "print()\n",
    "\n",
    "for element in arrow_dist2:\n",
    "    print(element)\n",
    "\n"
   ]
  },
  {
   "cell_type": "markdown",
   "metadata": {},
   "source": [
    "#### 4. If the archery target has a radius of 9, calculate the number of arrows that won't hit the target. \n",
    "**Hint**: Use the function created in step 3. "
   ]
  },
  {
   "cell_type": "code",
   "execution_count": 52,
   "metadata": {},
   "outputs": [
    {
     "name": "stdout",
     "output_type": "stream",
     "text": [
      "Arrow (9, 9) went out of bounds\n",
      "Arrow (-8, -9) went out of bounds\n",
      "2 arrows were missed\n"
     ]
    }
   ],
   "source": [
    "arrow_miss = []\n",
    "radius = 9\n",
    "\n",
    "for point in points:\n",
    "    if close_center(point) > radius:\n",
    "        arrow_miss.append(point)\n",
    "        print(\"Arrow\", point, \"went out of bounds\")\n",
    "\n",
    "print(len(arrow_miss), \"arrows were missed\")\n",
    "\n",
    "    "
   ]
  }
 ],
 "metadata": {
  "kernelspec": {
   "display_name": "Python 3",
   "language": "python",
   "name": "python3"
  },
  "language_info": {
   "codemirror_mode": {
    "name": "ipython",
    "version": 3
   },
   "file_extension": ".py",
   "mimetype": "text/x-python",
   "name": "python",
   "nbconvert_exporter": "python",
   "pygments_lexer": "ipython3",
   "version": "3.8.2"
  }
 },
 "nbformat": 4,
 "nbformat_minor": 2
}
